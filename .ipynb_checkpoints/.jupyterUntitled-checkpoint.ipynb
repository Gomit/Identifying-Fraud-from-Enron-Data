{
 "cells": [
  {
   "cell_type": "code",
   "execution_count": null,
   "metadata": {
    "collapsed": true
   },
   "outputs": [],
   "source": [
    "\n",
    "\n",
    "from twilio.rest import TwilioRestClient\n",
    " \n",
    "# Your Account Sid and Auth Token from twilio.com/user/account\n",
    "account_sid = \"AC065409470d8ccbdf983738257e6f0927\"\n",
    "auth_token  = \"581df18f25c12b56b5f3abc4e0906aa8\"\n",
    "client = TwilioRestClient(account_sid, auth_token)\n",
    " \n",
    "message = client.messages.create(body=\"Hej Meron!\",\n",
    "    to=\"+46762575515\",    # Replace with your phone number\n",
    "    from_=\"+46215802327\") # Replace with your Twilio number\n",
    "print message.sid"
   ]
  }
 ],
 "metadata": {
  "kernelspec": {
   "display_name": "Python 2",
   "language": "python",
   "name": "python2"
  },
  "language_info": {
   "codemirror_mode": {
    "name": "ipython",
    "version": 2
   },
   "file_extension": ".py",
   "mimetype": "text/x-python",
   "name": "python",
   "nbconvert_exporter": "python",
   "pygments_lexer": "ipython2",
   "version": "2.7.10"
  }
 },
 "nbformat": 4,
 "nbformat_minor": 0
}
