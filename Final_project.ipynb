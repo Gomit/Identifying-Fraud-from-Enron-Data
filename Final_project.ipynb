{
 "cells": [
  {
   "cell_type": "markdown",
   "metadata": {},
   "source": [
    "### By Meron Goitom\n",
    "\n",
    "# Identifying Fraud from Enron Emails and Financial Data\n",
    "\n",
    "# Project Overview\n",
    "\n",
    "In 2000, Enron was one of the largest companies in the United States. By 2002, it had collapsed into bankruptcy due to widespread corporate fraud. In the resulting Federal investigation, there was a significant amount of typically confidential information entered into public record, including tens of thousands of emails and detailed financial data for top executives.\n",
    "\n",
    "In this project I will build a person of interest (POI) identifier using machine learning, based on financial and email data made public as a result of the Enron scandal. A person of interest (POI) are individuals who were indicted, reached a settlement or plea deal with the government, or testified in exchange for prosecution immunity. \n",
    "\n",
    "There are seven major steps in my project:\n",
    "\n",
    "- Data Exploration\n",
    "- Outlier Investigation\n",
    "- Create new features\n",
    "- Features select\n",
    "- Properly scale features\n",
    "- Pick an algorithm\n",
    "- Tune the algorithm"
   ]
  },
  {
   "cell_type": "markdown",
   "metadata": {},
   "source": [
    "## Data Preparation"
   ]
  },
  {
   "cell_type": "code",
   "execution_count": 7,
   "metadata": {
    "collapsed": false
   },
   "outputs": [],
   "source": [
    "import pickle\n",
    "import sys\n",
    "\n",
    "sys.path.append(\"/Users/merongoitom/Desktop/Nanodegree/ML/Udacity_course/Lesson1_Project/ud120-projects2/tools/\")\n",
    "data_dict = pickle.load(open('/Users/merongoitom/Desktop/Nanodegree/ML/Udacity_course/Lesson1_Project/ud120-projects2/final_project/final_project_dataset.pkl', \"r\"))"
   ]
  },
  {
   "cell_type": "markdown",
   "metadata": {},
   "source": [
    "# Data Exploration\n",
    "- Total number of data points\n",
    "- Allocation across classes (POI/non-POI)\n",
    "- Number of features\n",
    "- Are there features with many missing values? etc."
   ]
  },
  {
   "cell_type": "code",
   "execution_count": 8,
   "metadata": {
    "collapsed": false
   },
   "outputs": [
    {
     "name": "stdout",
     "output_type": "stream",
     "text": [
      "Number of people in the dataset: 146\n",
      "Number of feature for each person: 21\n",
      "number of POI's in the dataset: 18\n",
      "Total value of the stock - James Prentice: 1095040\n",
      "Nr of email messages to poi - Wesley Colwell: 11\n",
      "Value of stock options - Jeffrey K Skillin: 19250000\n",
      "Total Payments - Lay: 103559793\n",
      "Total Payments - Skilling: 8682716\n",
      "Total Payments - Fastow: 2424083\n",
      "Quantified salary: 95\n",
      "Known email address: 111\n",
      "Nr of 'NaN' for their total payments: 21\n",
      "Percentage of people: 14.3835616438\n",
      "Nr of 'NaN' for their total payments: 0\n",
      "Percentage of people: 0.0\n"
     ]
    }
   ],
   "source": [
    "import Data_Exploration\n",
    "Data_Exploration.Q_A(data_dict)"
   ]
  },
  {
   "cell_type": "markdown",
   "metadata": {
    "collapsed": true
   },
   "source": [
    "### Understanding the Dataset\n",
    "\n",
    "POIs are defined as peopelse who were indicted, reached a settlement or plea deal with the government, or testified in exchange for prosecution immunity.\n",
    "In addition to the labeled labeled POI feature the dataset contains 146 records with 24 features, mostly financial data but also email correspondence features. \n",
    "Of the 146 people in the dataset, 18 were labeled as POI, persons of interest."
   ]
  },
  {
   "cell_type": "markdown",
   "metadata": {},
   "source": [
    "# Outlier investigation\n",
    "Now that i have some insight into what the data is made out of, I continue by visualizing the data, to see if i can spot an outlier. I do this by ploting salaries and bonuses for the Enron employees."
   ]
  },
  {
   "cell_type": "code",
   "execution_count": 3,
   "metadata": {
    "collapsed": false
   },
   "outputs": [
    {
     "data": {
      "image/png": "[encoded data removed]",
      "text/plain": [
       "<matplotlib.figure.Figure at 0x109b78d50>"
      ]
     },
     "metadata": {},
     "output_type": "display_data"
    }
   ],
   "source": [
    "import Outlier_Investigation\n",
    "Outlier_Investigation.plot(data_dict)"
   ]
  },
  {
   "cell_type": "markdown",
   "metadata": {},
   "source": [
    "From the plot we can easily see theres one datapoint that clearly stands out.\n",
    "To handle these outliers correctly i need to identify the cause for it's strange values. I start by populated two dictionary with the bonus and salary in descending order and then print the key and value for the individuals with highest recorded bonus and salary."
   ]
  },
  {
   "cell_type": "code",
   "execution_count": 4,
   "metadata": {
    "collapsed": false
   },
   "outputs": [
    {
     "name": "stdout",
     "output_type": "stream",
     "text": [
      "[('TOTAL', 97343619),\n",
      " ('LAVORATO JOHN J', 8000000),\n",
      " ('LAY KENNETH L', 7000000),\n",
      " ('SKILLING JEFFREY K', 5600000),\n",
      " ('BELDEN TIMOTHY N', 5249999)]\n"
     ]
    }
   ],
   "source": [
    "import Outlier_Investigation\n",
    "Outlier_Investigation.bonus_outlier(data_dict)"
   ]
  },
  {
   "cell_type": "code",
   "execution_count": 5,
   "metadata": {
    "collapsed": false
   },
   "outputs": [
    {
     "name": "stdout",
     "output_type": "stream",
     "text": [
      "[('TOTAL', 26704229),\n",
      " ('SKILLING JEFFREY K', 1111258),\n",
      " ('LAY KENNETH L', 1072321),\n",
      " ('FREVERT MARK A', 1060932),\n",
      " ('PICKERING MARK R', 655037)]\n"
     ]
    }
   ],
   "source": [
    "import Outlier_Investigation\n",
    "Outlier_Investigation.salary_outliers(data_dict)"
   ]
  },
  {
   "cell_type": "markdown",
   "metadata": {},
   "source": [
    "The following outlier was identified.\n",
    "\n",
    "• TOTAL: The TOTAL key-value pair is most likley taken from the spreadsheet data and has been mistaken for a person.\n",
    "\n",
    "This error leads me to believe there could be more outliers in the data. So i look through the spreadsheet to see if I can spot similar scenarios that can create the same error."
   ]
  },
  {
   "cell_type": "code",
   "execution_count": 6,
   "metadata": {
    "collapsed": false
   },
   "outputs": [],
   "source": [
    "data_dict[\"THE TRAVEL AGENCY IN THE PARK\"];"
   ]
  },
  {
   "cell_type": "markdown",
   "metadata": {},
   "source": [
    "• THE TRAVEL AGENCY IN THE PARK: This record is not a person.\n",
    "\n",
    "Both of these data-errors should be removed so as not to negatively affect the analysis at a later stage."
   ]
  },
  {
   "cell_type": "code",
   "execution_count": 7,
   "metadata": {
    "collapsed": false
   },
   "outputs": [],
   "source": [
    "data_dict.pop( \"TOTAL\", 0 );\n",
    "data_dict.pop( \"THE TRAVEL AGENCY IN THE PARK\", 0 );"
   ]
  },
  {
   "cell_type": "markdown",
   "metadata": {},
   "source": [
    "Then i plot the salaries and bonuses for the Enron employees again."
   ]
  },
  {
   "cell_type": "code",
   "execution_count": 8,
   "metadata": {
    "collapsed": false
   },
   "outputs": [
    {
     "data": {
      "image/png": "[encoded data removed]",
      "text/plain": [
       "<matplotlib.figure.Figure at 0x10d282f50>"
      ]
     },
     "metadata": {},
     "output_type": "display_data"
    }
   ],
   "source": [
    "import Outlier_Investigation\n",
    "Outlier_Investigation.plot_clean(data_dict)"
   ]
  },
  {
   "cell_type": "markdown",
   "metadata": {},
   "source": [
    "# Create new features\n",
    "In the data exploration phase we found a number of \"NaN\" values, let us examine this closer."
   ]
  },
  {
   "cell_type": "code",
   "execution_count": 9,
   "metadata": {
    "collapsed": false
   },
   "outputs": [
    {
     "name": "stdout",
     "output_type": "stream",
     "text": [
      "bonus                         63\n",
      "deferral_payments            106\n",
      "deferred_income               96\n",
      "director_fees                128\n",
      "email_address                 33\n",
      "exercised_stock_options       43\n",
      "expenses                      50\n",
      "from_messages                 58\n",
      "from_poi_to_this_person       58\n",
      "from_this_person_to_poi       58\n",
      "loan_advances                141\n",
      "long_term_incentive           79\n",
      "other                         53\n",
      "poi                            0\n",
      "restricted_stock              35\n",
      "restricted_stock_deferred    127\n",
      "salary                        50\n",
      "shared_receipt_with_poi       58\n",
      "to_messages                   58\n",
      "total_payments                21\n",
      "total_stock_value             19\n",
      "dtype: int64\n",
      "(144, 21)\n"
     ]
    }
   ],
   "source": [
    "import Create_new_features\n",
    "print Create_new_features.check_NaN(data_dict).isnull().sum()\n",
    "print Create_new_features.check_NaN(data_dict).shape"
   ]
  },
  {
   "cell_type": "markdown",
   "metadata": {},
   "source": [
    "By applying \"remove_NaN=True\" & \"remove_all_zeroes=True\" as parameters to feature_format -> featureFormat, this will convert \"NaN\" strings to 0.0"
   ]
  },
  {
   "cell_type": "markdown",
   "metadata": {},
   "source": [
    "# Features select"
   ]
  },
  {
   "cell_type": "markdown",
   "metadata": {},
   "source": [
    "Okej now that we've got all the \"NaN\" values are dealt with, let's using selectKBest from sklearns feature-selection utility to identify the 10 best features to select for further analysis. \n",
    "\n",
    "The 10 selected features are printed below."
   ]
  },
  {
   "cell_type": "code",
   "execution_count": 10,
   "metadata": {
    "collapsed": false
   },
   "outputs": [
    {
     "name": "stdout",
     "output_type": "stream",
     "text": [
      "10 selected features: ['salary', 'total_payments', 'loan_advances', 'bonus', 'total_stock_value', 'shared_receipt_with_poi', 'exercised_stock_options', 'deferred_income', 'restricted_stock', 'long_term_incentive']\n",
      "\n"
     ]
    }
   ],
   "source": [
    "import Create_new_features\n",
    "target_label = 'poi'\n",
    "best_features = Create_new_features.kbest(data_dict)\n",
    "new_features_list = [target_label] + best_features.keys()\n",
    "\n",
    "features_list = new_features_list\n",
    "    \n",
    "print \"{0} selected features: {1}\\n\".format(len(features_list) - 1, features_list[1:])"
   ]
  },
  {
   "cell_type": "markdown",
   "metadata": {},
   "source": [
    "#### Let's create new features\n",
    "Namely how intensive was the email correspondence with people of interest 'poi_ratio', how big portion of the sent mail was to people of interest 'fraction_to_poi', and how big portion of the recieved mail was from people of interest 'fraction_from_poi'?"
   ]
  },
  {
   "cell_type": "code",
   "execution_count": 11,
   "metadata": {
    "collapsed": false
   },
   "outputs": [
    {
     "name": "stdout",
     "output_type": "stream",
     "text": [
      "['poi', 'salary', 'total_payments', 'loan_advances', 'bonus', 'total_stock_value', 'shared_receipt_with_poi', 'exercised_stock_options', 'deferred_income', 'restricted_stock', 'long_term_incentive', 'poi_ratio', 'fraction_to_poi', 'fraction_from_poi']\n"
     ]
    }
   ],
   "source": [
    "import warnings\n",
    "warnings.filterwarnings('ignore')\n",
    "\n",
    "# add the new features to our list of importent festures\n",
    "Create_new_features.new_features(data_dict, features_list)\n",
    "\n",
    "eng_feature_list=features_list \n",
    "print eng_feature_list"
   ]
  },
  {
   "cell_type": "markdown",
   "metadata": {},
   "source": [
    "# Properly scale features"
   ]
  },
  {
   "cell_type": "markdown",
   "metadata": {},
   "source": [
    "#### Finally, lets scale the features using the preprocessing module and MinMaxScale utility"
   ]
  },
  {
   "cell_type": "code",
   "execution_count": 13,
   "metadata": {
    "collapsed": false
   },
   "outputs": [
    {
     "name": "stdout",
     "output_type": "stream",
     "text": [
      "[[ 0.32916568  0.01025327  0.         ...,  0.20793561  0.03448276\n",
      "   0.2166548 ]\n",
      " [ 0.24036002  0.05440667  0.         ...,  0.          0.          0.        ]\n",
      " [ 0.15382656  0.00204447  0.         ...,  0.          0.          0.        ]\n",
      " ..., \n",
      " [ 0.23866105  0.01055103  0.         ...,  0.          0.          0.        ]\n",
      " [ 0.25070776  0.00845656  0.         ...,  1.          0.5         1.        ]\n",
      " [ 0.24744479  0.0122855   0.         ...,  0.29080159  0.375       0.27406108]]\n"
     ]
    }
   ],
   "source": [
    "from sklearn.preprocessing import MinMaxScaler\n",
    "from feature_format import featureFormat,targetFeatureSplit\n",
    "\n",
    "data = featureFormat(data_dict, features_list)\n",
    "labels, features = targetFeatureSplit(data)\n",
    "\n",
    "# scale features using min-max\n",
    "scaler = MinMaxScaler()\n",
    "features = scaler.fit_transform(features)\n",
    "print features"
   ]
  },
  {
   "cell_type": "markdown",
   "metadata": {},
   "source": [
    "### Now its time to split the data into training and testing set"
   ]
  },
  {
   "cell_type": "code",
   "execution_count": 14,
   "metadata": {
    "collapsed": false
   },
   "outputs": [
    {
     "name": "stdout",
     "output_type": "stream",
     "text": [
      "[0.0, 0.0, 0.0, 0.0, 1.0, 0.0, 0.0, 0.0, 0.0, 0.0, 0.0, 0.0, 0.0, 0.0, 0.0, 0.0, 1.0, 0.0, 0.0, 0.0, 0.0, 0.0, 0.0, 0.0, 0.0, 0.0, 0.0, 0.0, 0.0, 0.0, 1.0, 0.0, 0.0, 0.0, 0.0, 0.0, 0.0, 0.0, 0.0, 0.0, 0.0, 1.0, 0.0, 0.0, 0.0, 0.0, 0.0, 0.0, 0.0, 0.0, 0.0, 0.0, 0.0, 1.0, 0.0, 0.0, 0.0, 0.0, 0.0, 0.0, 1.0, 0.0, 0.0, 0.0, 0.0, 1.0, 0.0, 0.0, 0.0, 0.0, 0.0, 0.0, 0.0, 0.0, 0.0, 0.0, 1.0, 0.0, 0.0, 0.0, 0.0, 0.0, 1.0, 0.0, 0.0, 1.0, 0.0, 1.0, 1.0, 0.0, 0.0, 0.0, 0.0, 0.0, 1.0, 0.0, 0.0, 0.0, 0.0, 0.0, 0.0, 0.0, 0.0, 0.0, 0.0, 0.0, 0.0, 0.0, 0.0, 0.0, 0.0, 0.0, 0.0, 0.0, 0.0, 0.0, 0.0, 0.0, 0.0, 0.0, 0.0, 0.0, 1.0, 1.0, 0.0, 0.0, 0.0, 0.0, 0.0, 0.0, 0.0, 0.0, 1.0, 0.0, 0.0, 0.0, 0.0, 0.0, 0.0, 1.0, 0.0, 0.0, 1.0]\n",
      "[[ 0.32916568  0.01025327  0.         ...,  0.20793561  0.03448276\n",
      "   0.2166548 ]\n",
      " [ 0.24036002  0.05440667  0.         ...,  0.          0.          0.        ]\n",
      " [ 0.15382656  0.00204447  0.         ...,  0.          0.          0.        ]\n",
      " ..., \n",
      " [ 0.23866105  0.01055103  0.         ...,  0.          0.          0.        ]\n",
      " [ 0.25070776  0.00845656  0.         ...,  1.          0.5         1.        ]\n",
      " [ 0.24744479  0.0122855   0.         ...,  0.29080159  0.375       0.27406108]]\n"
     ]
    }
   ],
   "source": [
    "from sklearn.cross_validation import train_test_split\n",
    "features_train,features_test,labels_train,labels_test = train_test_split(features,labels, test_size=0.3, random_state=42)\n",
    "    \n",
    "print labels\n",
    "print features"
   ]
  },
  {
   "cell_type": "markdown",
   "metadata": {},
   "source": [
    "# Pick and tune an algorithm\n",
    "Here i will test different algorithms and evaluatw their performance, the algorithms i've decide to test are \"Nearest Neighbors\", \"Linear SVM\", \"RBF SVM\", \"Decision Tree\",\"Random Forest\", \"AdaBoost\", \"Naive Bayes\"."
   ]
  },
  {
   "cell_type": "code",
   "execution_count": 15,
   "metadata": {
    "collapsed": false
   },
   "outputs": [
    {
     "name": "stdout",
     "output_type": "stream",
     "text": [
      " \n",
      "Classifier:\n",
      "KNeighborsClassifier(algorithm='auto', leaf_size=30, metric='minkowski',\n",
      "           metric_params=None, n_jobs=1, n_neighbors=3, p=2,\n",
      "           weights='uniform')\n",
      "precision: 0.143410714286\n",
      "recall:    0.0652313852814\n",
      "Accuracy: 0.84 (+/- 0.00)\n",
      "=====================================================================\n",
      " \n",
      "Classifier:\n",
      "SVC(C=0.025, cache_size=200, class_weight=None, coef0=0.0,\n",
      "  decision_function_shape=None, degree=3, gamma='auto', kernel='linear',\n",
      "  max_iter=-1, probability=False, random_state=None, shrinking=True,\n",
      "  tol=0.001, verbose=False)\n",
      "precision: 0.0\n",
      "recall:    0.0\n",
      "Accuracy: 0.84 (+/- 0.00)\n",
      "=====================================================================\n",
      " \n",
      "Classifier:\n",
      "SVC(C=10, cache_size=200, class_weight=None, coef0=0.0,\n",
      "  decision_function_shape=None, degree=3, gamma=2, kernel='rbf',\n",
      "  max_iter=-1, probability=False, random_state=None, shrinking=True,\n",
      "  tol=0.001, verbose=False)\n",
      "precision: 0.0938642857143\n",
      "recall:    0.0634535714286\n",
      "Accuracy: 0.79 (+/- 0.00)\n",
      "=====================================================================\n",
      " \n",
      "Classifier:\n",
      "DecisionTreeClassifier(class_weight=None, criterion='gini', max_depth=2,\n",
      "            max_features=None, max_leaf_nodes=None, min_samples_leaf=1,\n",
      "            min_samples_split=2, min_weight_fraction_leaf=0.0,\n",
      "            presort=False, random_state=None, splitter='best')\n",
      "precision: 0.312880906593\n",
      "recall:    0.223779112554\n",
      "Accuracy: 0.84 (+/- 0.00)\n",
      "=====================================================================\n",
      " \n",
      "Classifier:\n",
      "RandomForestClassifier(bootstrap=True, class_weight=None, criterion='gini',\n",
      "            max_depth=10, max_features=1, max_leaf_nodes=None,\n",
      "            min_samples_leaf=1, min_samples_split=2,\n",
      "            min_weight_fraction_leaf=0.0, n_estimators=5, n_jobs=1,\n",
      "            oob_score=False, random_state=None, verbose=0,\n",
      "            warm_start=False)\n",
      "precision: 0.354586507937\n",
      "recall:    0.186499278499\n",
      "Accuracy: 0.81 (+/- 0.00)\n",
      "=====================================================================\n",
      " \n",
      "Classifier:\n",
      "AdaBoostClassifier(algorithm='SAMME', base_estimator=None, learning_rate=1.0,\n",
      "          n_estimators=5, random_state=None)\n",
      "precision: 0.370311868687\n",
      "recall:    0.250851587302\n",
      "Accuracy: 0.86 (+/- 0.00)\n",
      "=====================================================================\n",
      " \n",
      "Classifier:\n",
      "GaussianNB()\n",
      "precision: 0.344905892171\n",
      "recall:    0.365893398268\n",
      "Accuracy: 0.40 (+/- 0.00)\n",
      "=====================================================================\n"
     ]
    }
   ],
   "source": [
    "from sklearn.tree import DecisionTreeClassifier\n",
    "from sklearn.ensemble import ExtraTreesClassifier\n",
    "from sklearn.ensemble import AdaBoostClassifier\n",
    "from sklearn.ensemble import RandomForestClassifier\n",
    "from sklearn.neighbors import KNeighborsClassifier\n",
    "from sklearn.svm import SVC\n",
    "from sklearn.naive_bayes import GaussianNB\n",
    "import matrics\n",
    "\n",
    "names = [\"Nearest Neighbors\", \"Linear SVM\", \"RBF SVM\", \"Decision Tree\",\n",
    "             \"Random Forest\", \"AdaBoost\", \"Naive Bayes\"]\n",
    "\n",
    "classifiers = [\n",
    "    KNeighborsClassifier(3),\n",
    "    SVC(kernel=\"linear\", C=0.025),\n",
    "    SVC(kernel='rbf', gamma=2, C=10),\n",
    "    DecisionTreeClassifier(max_depth=2),\n",
    "    RandomForestClassifier(max_depth=10, n_estimators=5, max_features=1),\n",
    "    AdaBoostClassifier(algorithm='SAMME', n_estimators=5),\n",
    "    GaussianNB()]\n",
    "\n",
    "# iterate over classifiers and print out the scores\n",
    "for name, clf in zip(names, classifiers):\n",
    "        clf.fit(features_train,labels_train)\n",
    "        scores = clf.score(features_test,labels_test)\n",
    "        print \" \"\n",
    "        print \"Classifier:\"\n",
    "        matrics.evaluate_clf(clf, features, labels, num_iters=1000, test_size=0.3)\n",
    "        print(\"Accuracy: %0.2f (+/- %0.2f)\" % (scores.mean(), scores.std() * 2))\n",
    "        print \"=====================================================================\"\n"
   ]
  },
  {
   "cell_type": "markdown",
   "metadata": {},
   "source": [
    "# Tune the algorithm\n",
    "I got significant success with AdaBoost Classifier and DecisionTree Classifier so i decided to move forward with one of them, in this case the DecisionTreeClassifier to see if i can imporve the model further.\n",
    "\n",
    "I have decided to use GridSearchCV to optimized my DecisionTreeClassifier algorithm over a parameter grid. Giving me the optimal parameters for my model."
   ]
  },
  {
   "cell_type": "code",
   "execution_count": 26,
   "metadata": {
    "collapsed": false
   },
   "outputs": [
    {
     "name": "stdout",
     "output_type": "stream",
     "text": [
      "DecisionTreeClassifier(class_weight=None, criterion='entropy', max_depth=8,\n",
      "            max_features=None, max_leaf_nodes=None, min_samples_leaf=7,\n",
      "            min_samples_split=4, min_weight_fraction_leaf=0.0,\n",
      "            presort=False, random_state=None, splitter='best')\n",
      "0.946666666667\n",
      "Processing time: 21.004 s\n"
     ]
    }
   ],
   "source": [
    "from sklearn.grid_search import GridSearchCV\n",
    "from sklearn.cross_validation import StratifiedShuffleSplit\n",
    "cv = StratifiedShuffleSplit(labels, n_iter=10)\n",
    "\n",
    "from time import time\n",
    "t0 = time()\n",
    "param_grid = {'max_depth': [1,2,3,4,5,6,8,9,10],'min_samples_split':[1,2,3,4,5],'min_samples_leaf':[1,2,3,4,5,6,7,8], 'criterion':('gini', 'entropy')}\n",
    "\n",
    "clf = DecisionTreeClassifier() \n",
    "GS_clf = GridSearchCV(clf, param_grid,  cv = cv)\n",
    "GS_clf.fit(features, labels)\n",
    "\n",
    "\n",
    "print GS_clf.best_estimator_\n",
    "print GS_clf.best_score_\n",
    "print 'Processing time:',round(time()-t0,3) ,'s'"
   ]
  },
  {
   "cell_type": "markdown",
   "metadata": {},
   "source": [
    "### Finally i tested it using the Cross-validation iterator StratifiedShuffleSplit, with 1000 folds as provided in the tester.py script."
   ]
  },
  {
   "cell_type": "code",
   "execution_count": 27,
   "metadata": {
    "collapsed": false
   },
   "outputs": [
    {
     "name": "stdout",
     "output_type": "stream",
     "text": [
      "DecisionTreeClassifier(class_weight=None, criterion='entropy', max_depth=8,\n",
      "            max_features=None, max_leaf_nodes=None, min_samples_leaf=7,\n",
      "            min_samples_split=4, min_weight_fraction_leaf=0.0,\n",
      "            presort=False, random_state=None, splitter='best')\n",
      "\tAccuracy: 0.87907\tPrecision: 0.59810\tRecall: 0.28350\tF1: 0.38467\tF2: 0.31683\n",
      "\tTotal predictions: 15000\tTrue positives:  567\tFalse positives:  381\tFalse negatives: 1433\tTrue negatives: 12619\n",
      "\n",
      "Processing time: 1.509 s\n"
     ]
    }
   ],
   "source": [
    "from tester import test_classifier, dump_classifier_and_data\n",
    "\n",
    "t0 = time()\n",
    "best_clf = GS_clf.best_estimator_\n",
    "\n",
    "test_classifier(best_clf, data_dict, eng_feature_list)\n",
    "\n",
    "print 'Processing time:',round(time()-t0,3) ,'s'"
   ]
  },
  {
   "cell_type": "markdown",
   "metadata": {},
   "source": [
    "### Testing DecisionTreeClassifier best estimator"
   ]
  },
  {
   "cell_type": "code",
   "execution_count": 28,
   "metadata": {
    "collapsed": false
   },
   "outputs": [
    {
     "name": "stdout",
     "output_type": "stream",
     "text": [
      "DecisionTreeClassifier(class_weight=None, criterion='entropy', max_depth=8,\n",
      "            max_features=None, max_leaf_nodes=None, min_samples_leaf=7,\n",
      "            min_samples_split=4, min_weight_fraction_leaf=0.0,\n",
      "            presort=False, random_state=None, splitter='best')\n",
      "precision: 0.380847202797\n",
      "recall:    0.269944264069\n",
      "Accuracy: 0.95 (+/- 0.00)\n",
      "Processing time: 2.557 s\n"
     ]
    }
   ],
   "source": [
    "t0 = time()\n",
    "best_clf = GS_clf.best_estimator_\n",
    "best_score = GS_clf.best_score_\n",
    "\n",
    "matrics.evaluate_clf(best_clf, features, labels, num_iters=1000, test_size=0.3)\n",
    "print \"Accuracy: %0.2f (+/- %0.2f)\" % (best_score.mean(), best_score.std() * 2)\n",
    "print 'Processing time:',round(time()-t0,3) ,'s'"
   ]
  },
  {
   "cell_type": "markdown",
   "metadata": {},
   "source": [
    "# Dump successful classifier"
   ]
  },
  {
   "cell_type": "code",
   "execution_count": 29,
   "metadata": {
    "collapsed": false
   },
   "outputs": [],
   "source": [
    "dump_classifier_and_data(best_clf, data_dict, eng_feature_list)"
   ]
  }
 ],
 "metadata": {
  "anaconda-cloud": {},
  "kernelspec": {
   "display_name": "Python [conda root]",
   "language": "python",
   "name": "conda-root-py"
  },
  "language_info": {
   "codemirror_mode": {
    "name": "ipython",
    "version": 2
   },
   "file_extension": ".py",
   "mimetype": "text/x-python",
   "name": "python",
   "nbconvert_exporter": "python",
   "pygments_lexer": "ipython2",
   "version": "2.7.12"
  }
 },
 "nbformat": 4,
 "nbformat_minor": 1
}
